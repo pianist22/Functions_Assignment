{
 "cells": [
  {
   "cell_type": "markdown",
   "id": "ae2c52f6-9dbb-41b1-bae6-adfcaffc0b12",
   "metadata": {},
   "source": [
    "# Functions Assignment"
   ]
  },
  {
   "cell_type": "markdown",
   "id": "efa3bed2-c032-4878-ab0c-a7321c3e7f37",
   "metadata": {},
   "source": [
    "### Q1) What is the difference between function and a method in python?"
   ]
  },
  {
   "cell_type": "code",
   "execution_count": 1,
   "id": "f81a248c-fcc8-4508-8ce0-d64b31bac878",
   "metadata": {},
   "outputs": [
    {
     "name": "stdout",
     "output_type": "stream",
     "text": [
      "8\n"
     ]
    }
   ],
   "source": [
    "# In Python, both functions and methods are blocks of reusable code that perform a specific task. However, \n",
    "# there is a key distinction:\n",
    "\n",
    "# Function:\n",
    "# A function is a standalone block of code that can be called from anywhere in your program.\n",
    "# It takes input arguments (optional), processes them, and returns an output (optional).\n",
    "# Functions are defined using the def keyword.\n",
    "def add_numbers(x, y):\n",
    "    return x + y\n",
    "\n",
    "result = add_numbers(5, 3)  # Calling the function\n",
    "print(result)"
   ]
  },
  {
   "cell_type": "code",
   "execution_count": 2,
   "id": "21d6a50b-2508-4a95-80d4-8bfb33649741",
   "metadata": {},
   "outputs": [],
   "source": [
    "# Method:\n",
    "# A method is a function that is associated with a specific object or class. \n",
    "# It is defined within a class and operates on the data or attributes of that class.\n",
    "# Methods are accessed using dot notation on an object instance.\n",
    "# The first argument of a method is always self, which refers to the object instance itself."
   ]
  },
  {
   "cell_type": "markdown",
   "id": "f8a141f5-163c-414e-9c51-842e8baf1058",
   "metadata": {},
   "source": [
    "### Q2) Explain the concept of function arguments and paramters in python."
   ]
  },
  {
   "cell_type": "code",
   "execution_count": 3,
   "id": "2ea9142f-3bbb-49f5-877e-b2c8cc477c9f",
   "metadata": {},
   "outputs": [
    {
     "name": "stdout",
     "output_type": "stream",
     "text": [
      "Hello, Alice\n"
     ]
    }
   ],
   "source": [
    "# In Python, parameters and arguments are closely related but distinct concepts used when working with functions:\n",
    "\n",
    "# Parameters:\n",
    "# Definition: Parameters are the variables listed inside the parentheses in a function's definition. They act as\n",
    "# placeholders for the values that will be passed to the function when it's called.\n",
    "\n",
    "# Example:\n",
    "def greet(name):  # 'name' is a parameter\n",
    "    print(\"Hello,\", name)\n",
    "\n",
    "# Arguments:\n",
    "# Definition: Arguments are the actual values passed to a function when it's called. They are assigned to the \n",
    "# corresponding parameters in the function's definition.\n",
    "\n",
    "# Example:\n",
    "greet(\"Alice\")  # \"Alice\" is an argument"
   ]
  },
  {
   "cell_type": "markdown",
   "id": "deab7d58-662d-4639-a2b1-389607855bf2",
   "metadata": {},
   "source": [
    "### Q3) What are the different ways to define and call a function in python?"
   ]
  },
  {
   "cell_type": "code",
   "execution_count": 4,
   "id": "aa2b0ccb-36aa-4411-b3bc-bc1f4c013bc7",
   "metadata": {},
   "outputs": [
    {
     "name": "stdout",
     "output_type": "stream",
     "text": [
      "Hello, Alice!\n"
     ]
    }
   ],
   "source": [
    "# In Python, there are several ways to define and call functions:\n",
    "\n",
    "# 1. Standard Function Definition:\n",
    "# This is the most common way to define a function. You use the def keyword, followed by the function name, \n",
    "# parentheses for arguments, and a colon. The function body is indented.\n",
    "\n",
    "def greet(name):\n",
    "    print(\"Hello, \" + name + \"!\")\n",
    "\n",
    "greet(\"Alice\")  # Calling the function"
   ]
  },
  {
   "cell_type": "code",
   "execution_count": 5,
   "id": "fc33aa82-ee1e-4204-9c7f-7786137a9aca",
   "metadata": {},
   "outputs": [
    {
     "name": "stdout",
     "output_type": "stream",
     "text": [
      "8\n"
     ]
    }
   ],
   "source": [
    "# 2. Lambda Functions:\n",
    "# Lambda functions are anonymous functions, meaning they don't have a name. They are defined using the \n",
    "# lambda keyword and are typically used for short, simple operations.\n",
    "\n",
    "add = lambda x, y: x + y\n",
    "print(add(5, 3)) "
   ]
  },
  {
   "cell_type": "code",
   "execution_count": 8,
   "id": "6752ece9-1f60-4f96-a0b9-72e3a3a721e7",
   "metadata": {},
   "outputs": [
    {
     "name": "stdout",
     "output_type": "stream",
     "text": [
      "Hello, Bob!\n",
      "Hi, Charlie!\n"
     ]
    }
   ],
   "source": [
    "# 3. Functions with Default Arguments:\n",
    "# You can assign default values to function arguments. If the caller doesn't provide a value for that argument, \n",
    "# the default value is used.\n",
    "\n",
    "def greet(name, greeting=\"Hello\"):\n",
    "    print(greeting + \", \" + name + \"!\")\n",
    "\n",
    "greet(\"Bob\")  # Uses default greeting\n",
    "greet(\"Charlie\", \"Hi\")  # Overrides default greeting"
   ]
  },
  {
   "cell_type": "code",
   "execution_count": 10,
   "id": "39721c4c-899a-4dae-afaa-a4c90926bfb4",
   "metadata": {},
   "outputs": [
    {
     "name": "stdout",
     "output_type": "stream",
     "text": [
      "1\n",
      "two\n",
      "3.0\n",
      "name: Alice\n",
      "age: 30\n"
     ]
    }
   ],
   "source": [
    "# 4. Functions with Variable-Length Arguments:\n",
    "# If you don't know how many arguments will be passed to a function, you can use *args (for positional arguments) \n",
    "# or **kwargs (for keyword arguments).\n",
    "\n",
    "def print_args(*args):\n",
    "    for arg in args:\n",
    "        print(arg)\n",
    "\n",
    "print_args(1, \"two\", 3.0)\n",
    "\n",
    "def print_kwargs(**kwargs):\n",
    "    for key, value in kwargs.items():\n",
    "        print(key + \": \" + str(value))\n",
    "\n",
    "print_kwargs(name=\"Alice\", age=30)\n"
   ]
  },
  {
   "cell_type": "markdown",
   "id": "7150db60-7807-412d-813f-453e61d32ecd",
   "metadata": {},
   "source": [
    "### Q4) What is the purpose of return statement in python function?"
   ]
  },
  {
   "cell_type": "code",
   "execution_count": 11,
   "id": "b41b11f7-8be7-4366-8ad4-a49a85cb6e9b",
   "metadata": {},
   "outputs": [],
   "source": [
    "# return statement is used within a python function to send a value or object back to the part of the program \n",
    "# from where the function is called.\n",
    "# return statement marks the end of the function.\n",
    "# No statement is executed in the function after the return statement."
   ]
  },
  {
   "cell_type": "markdown",
   "id": "ae74deb6-bf08-42e8-887a-3cc1c90a5945",
   "metadata": {},
   "source": [
    "### Q5) What are iterators in python and how do they differ from iterables?"
   ]
  },
  {
   "cell_type": "code",
   "execution_count": 12,
   "id": "41a4bcd4-22b5-473e-b7d9-97e2b0b45dbe",
   "metadata": {},
   "outputs": [
    {
     "name": "stdout",
     "output_type": "stream",
     "text": [
      "Priyanshu 1 2.3 True "
     ]
    }
   ],
   "source": [
    "# Iterables: Iterables is a python object/sequential structure/data structure which is capable of returning \n",
    "# it's members one at a time.\n",
    "# Iterables are permitted to be iterated over a for loop.\n",
    "\n",
    "l = [\"Priyanshu\",1,2.3,True] # List Iterable\n",
    "for i in l:\n",
    "    print(i,end = \" \")"
   ]
  },
  {
   "cell_type": "code",
   "execution_count": 14,
   "id": "4019973b-c056-4159-bf1e-e7e49a97bf8f",
   "metadata": {},
   "outputs": [
    {
     "data": {
      "text/plain": [
       "<list_iterator at 0x72b0d836d090>"
      ]
     },
     "execution_count": 14,
     "metadata": {},
     "output_type": "execute_result"
    }
   ],
   "source": [
    "# The process of iterating over through each of the member using for loop is called iterations.\n",
    "\n",
    "# Iterator: Iterator is a python object representing a stream of data which returns the data one by one.\n",
    "# Python checks that given data structure is ready for iteration using iter(object) function which returns an \n",
    "# iterator object. If for any object it's iter(object) is returning an iterator object we can call that object as \n",
    "# iterable.\n",
    "# Iterator: Iterator is an intermediate state that creates an iterator objects that can be iterated.\n",
    "# The member of iterables can be iterated using iterator using next() function.\n",
    "\n",
    "it = iter(l)\n",
    "it"
   ]
  },
  {
   "cell_type": "code",
   "execution_count": 16,
   "id": "618a38cb-fdea-45b7-bd44-f49346db5f27",
   "metadata": {},
   "outputs": [
    {
     "data": {
      "text/plain": [
       "'Priyanshu'"
      ]
     },
     "execution_count": 16,
     "metadata": {},
     "output_type": "execute_result"
    }
   ],
   "source": [
    "next(it)"
   ]
  },
  {
   "cell_type": "code",
   "execution_count": 17,
   "id": "8a708487-00b3-4da7-978b-60418215464f",
   "metadata": {},
   "outputs": [
    {
     "data": {
      "text/plain": [
       "1"
      ]
     },
     "execution_count": 17,
     "metadata": {},
     "output_type": "execute_result"
    }
   ],
   "source": [
    "next(it)"
   ]
  },
  {
   "cell_type": "code",
   "execution_count": 18,
   "id": "fc4ad5e3-3da2-4b3c-a579-556f367117b7",
   "metadata": {},
   "outputs": [
    {
     "data": {
      "text/plain": [
       "2.3"
      ]
     },
     "execution_count": 18,
     "metadata": {},
     "output_type": "execute_result"
    }
   ],
   "source": [
    "next(it)"
   ]
  },
  {
   "cell_type": "code",
   "execution_count": 19,
   "id": "ff883028-ff88-4500-bf36-cf77b9fcf2e1",
   "metadata": {},
   "outputs": [
    {
     "data": {
      "text/plain": [
       "True"
      ]
     },
     "execution_count": 19,
     "metadata": {},
     "output_type": "execute_result"
    }
   ],
   "source": [
    "next(it)"
   ]
  },
  {
   "cell_type": "markdown",
   "id": "2c8a9fa7-a769-4a67-a904-47813684efa2",
   "metadata": {},
   "source": [
    "### Q6) Explain the concept of generator in python and how they are defined."
   ]
  },
  {
   "cell_type": "code",
   "execution_count": 22,
   "id": "a634db2a-4139-47dc-a80f-25b856e60d12",
   "metadata": {},
   "outputs": [],
   "source": [
    "# In Python, a generator is a special type of function that generates a sequence of values on demand, one at a\n",
    "# time, instead of producing all values at once and storing them in memory. This makes generators memory-\n",
    "# efficient , especially when dealing with large datasets or infinite sequences.\n",
    "\n",
    "# Yield Keyword:\n",
    "# Generators use the yield keyword instead of return. When a generator function encounters a yield statement, \n",
    "# it pauses execution, saves its state, and returns the yielded value. The next time the generator is called, it \n",
    "# resumes execution from where it left off.\n",
    "\n",
    "# Generator Objects:\n",
    "# Calling a generator function returns a generator object. This object is an iterator, meaning you can use it in\n",
    "# loops or with the next() function to fetch the next value in the sequence."
   ]
  },
  {
   "cell_type": "code",
   "execution_count": 23,
   "id": "db74ce4d-ab29-4dd7-b7e1-7cbbd5f5724d",
   "metadata": {},
   "outputs": [
    {
     "name": "stdout",
     "output_type": "stream",
     "text": [
      "0\n",
      "2\n",
      "4\n",
      "6\n",
      "8\n",
      "10\n"
     ]
    }
   ],
   "source": [
    "def even_numbers(limit):\n",
    "    n = 0\n",
    "    while n <= limit:\n",
    "        yield n\n",
    "        n += 2\n",
    "\n",
    "# Create a generator object\n",
    "evens = even_numbers(10)\n",
    "\n",
    "# Iterate over the generator\n",
    "for num in evens:\n",
    "    print(num)"
   ]
  },
  {
   "cell_type": "markdown",
   "id": "1621b1f0-4caa-4039-aeec-78ff04212e82",
   "metadata": {},
   "source": [
    "### Q7) What are the advatages of using generators over regular functions?"
   ]
  },
  {
   "cell_type": "code",
   "execution_count": 24,
   "id": "8fec7343-c156-4b01-ab28-671205fed253",
   "metadata": {},
   "outputs": [],
   "source": [
    "# Generators offer several advantages over regular functions, including memory efficiency, lazy evaluation, and \n",
    "# improved performance: \n",
    "\n",
    "# Memory efficiency\n",
    "# Generators produce one output at a time, so they don't need to store all values in memory at once. This makes \n",
    "# them especially useful for large datasets. \n",
    "\n",
    "# Lazy evaluation\n",
    "# Generators only compute the next value when it's required, avoiding unnecessary calculations. This can lead to \n",
    "# performance improvements. \n",
    "\n",
    "# Improved execution time\n",
    "# Generators can be faster than regular loops, especially when working with large data sets. They produce values \n",
    "# on-the-fly, eliminating the need to compute and store all values upfront."
   ]
  },
  {
   "cell_type": "markdown",
   "id": "74d53bae-d33e-4238-a0f9-08f77a9cdccb",
   "metadata": {},
   "source": [
    "### Q8) What is lambda function in python and when it is typically used?"
   ]
  },
  {
   "cell_type": "code",
   "execution_count": 25,
   "id": "ffc7a50a-d4ef-41df-9348-bf520d587932",
   "metadata": {},
   "outputs": [],
   "source": [
    "# In Python, a lambda function is a small, anonymous function that can have any number of arguments but only\n",
    "# one expression. It's defined using the lambda keyword, followed by the arguments, a colon, and the expression.\n",
    "\n",
    "# Syntax:\n",
    "# lambda arguments: expression"
   ]
  },
  {
   "cell_type": "code",
   "execution_count": 26,
   "id": "00c20d82-ba4a-43d2-b8c1-c8cc3de0b55c",
   "metadata": {},
   "outputs": [
    {
     "name": "stdout",
     "output_type": "stream",
     "text": [
      "8\n"
     ]
    }
   ],
   "source": [
    "#Example:\n",
    "add = lambda x, y: x + y\n",
    "print(add(5, 3))"
   ]
  },
  {
   "cell_type": "code",
   "execution_count": 27,
   "id": "1328aabe-1e9f-4c89-8bd2-3d537589809b",
   "metadata": {},
   "outputs": [],
   "source": [
    "# When to use lambda functions:\n",
    "\n",
    "# Short, simple operations:\n",
    "# Lambda functions are ideal for one-liner operations where defining a full function would be overkill. \n",
    "# For instance, simple calculations or data transformations.\n",
    "\n",
    "# Higher-order functions:\n",
    "# Lambda functions are commonly used with functions like map(), filter(), and reduce(), which take other \n",
    "# functions as arguments."
   ]
  },
  {
   "cell_type": "markdown",
   "id": "92f98a1a-b8af-4eba-ab51-f7c607e80b05",
   "metadata": {},
   "source": [
    "### Q9) Explain the purpose and usage of map() function in python."
   ]
  },
  {
   "cell_type": "code",
   "execution_count": 29,
   "id": "4f109ba2-7f80-4bf4-b845-8c52d5fec3c6",
   "metadata": {},
   "outputs": [
    {
     "name": "stdout",
     "output_type": "stream",
     "text": [
      "[1, 4, 9, 16, 25, 36]\n"
     ]
    }
   ],
   "source": [
    "# The map() function in Python applies a given function to every item in an iterable (like a list, tuple, or \n",
    "# string) and returns an iterator containing the results. \n",
    "\n",
    "# Purpose:\n",
    "# It allows you to process and transform all the elements in an iterable without using explicit loops, making \n",
    "# your code more concise and readable.\n",
    "# It is a functional programming approach, focusing on applying functions to data rather than using iterative \n",
    "# loops.\n",
    "\n",
    "# Usage:\n",
    "# map(function, iterable)\n",
    "# function: The function you want to apply to each element.\n",
    "# iterable: The iterable (e.g., list, tuple, string) containing the elements you want to process.\n",
    "\n",
    "# Example:\n",
    "    \n",
    "numbers = [1, 2, 3, 4,5,6]\n",
    "squared = map(lambda x: x ** 2, numbers)\n",
    "print(list(squared))"
   ]
  },
  {
   "cell_type": "markdown",
   "id": "5f62b1fe-c64c-4ed0-a9b4-2948b5b095b6",
   "metadata": {},
   "source": [
    "### Q10) What is the difference between map(), reduce() and filter() function in python?"
   ]
  },
  {
   "cell_type": "code",
   "execution_count": 31,
   "id": "20aff464-4b24-435c-9d91-d95ab28f0410",
   "metadata": {},
   "outputs": [
    {
     "name": "stdout",
     "output_type": "stream",
     "text": [
      "map():  [1, 4, 9, 16]\n",
      "filter():  [2, 4]\n",
      "reduce():  10\n"
     ]
    }
   ],
   "source": [
    "# map(), filter(), and reduce() are built-in Python functions that operate on iterables (like lists) \n",
    "# .Here's a breakdown of their differences:\n",
    "\n",
    "# 1. map(function, iterable):\n",
    "# Applies a given function to each item in an iterable and returns a new iterable containing the transformed values.\n",
    "# The output iterable is the same size as the input iterable.\n",
    "\n",
    "# Example:\n",
    "    \n",
    "numbers = [1, 2, 3, 4]\n",
    "squared = map(lambda x: x**2, numbers)\n",
    "print(\"map(): \",list(squared))\n",
    "\n",
    "# 2. filter(function, iterable):\n",
    "# Creates a new iterable containing only the items from the input iterable that satisfy a given condition \n",
    "# (specified by the function).\n",
    "# The function should return True if the item should be included in the output iterable.\n",
    "\n",
    "# Example:\n",
    "    \n",
    "numbers = [1, 2, 3, 4, 5]\n",
    "evens = filter(lambda x: x % 2 == 0, numbers)\n",
    "print(\"filter(): \",list(evens))\n",
    "\n",
    "# 3. reduce(function, iterable):\n",
    "# Applies a function to the elements of an iterable in a cumulative way, reducing them to a single value.\n",
    "# The function takes two arguments: the accumulated value so far, and the current element.\n",
    "# Requires importing from the functools module.\n",
    "\n",
    "# Example:\n",
    "    \n",
    "from functools import reduce\n",
    "\n",
    "numbers = [1, 2, 3, 4]\n",
    "sum = reduce(lambda x, y: x + y, numbers)\n",
    "print(\"reduce(): \",sum)\n",
    "\n",
    "# In summary:\n",
    "# map() - transforms each element in an iterable.\n",
    "# filter() - selects elements from an iterable based on a condition.\n",
    "# reduce() - combines elements in an iterable to a single value."
   ]
  },
  {
   "cell_type": "markdown",
   "id": "9492c2f0-8c99-47b6-a66f-07b99a43f3a4",
   "metadata": {},
   "source": [
    "### Q11) Using pen and paper write the internal mechanism for sum operation using reduce function on this given list [47,11,42,13]."
   ]
  },
  {
   "cell_type": "code",
   "execution_count": 32,
   "id": "e80a4bbd-fcfb-477e-8964-0a6f254d5313",
   "metadata": {},
   "outputs": [],
   "source": [
    "# first i am writing the reduce function for sum operation then i will explain the internal mecahnism on paper \n",
    "# by preoving the screenshot of that"
   ]
  },
  {
   "cell_type": "code",
   "execution_count": 33,
   "id": "8734a23f-f621-4694-88bf-022b8d99da7f",
   "metadata": {},
   "outputs": [],
   "source": [
    "from functools import reduce"
   ]
  },
  {
   "cell_type": "code",
   "execution_count": 34,
   "id": "434f9671-66bc-4cfd-8b6e-e65d9c803714",
   "metadata": {},
   "outputs": [
    {
     "data": {
      "text/plain": [
       "113"
      ]
     },
     "execution_count": 34,
     "metadata": {},
     "output_type": "execute_result"
    }
   ],
   "source": [
    "l = [47,11,42,13]\n",
    "reduce(lambda x,y: x+y,l)"
   ]
  },
  {
   "cell_type": "code",
   "execution_count": null,
   "id": "588b274f-ee93-45bf-8ea6-ffa5e15f8f59",
   "metadata": {},
   "outputs": [],
   "source": []
  }
 ],
 "metadata": {
  "kernelspec": {
   "display_name": "Python 3 (ipykernel)",
   "language": "python",
   "name": "python3"
  },
  "language_info": {
   "codemirror_mode": {
    "name": "ipython",
    "version": 3
   },
   "file_extension": ".py",
   "mimetype": "text/x-python",
   "name": "python",
   "nbconvert_exporter": "python",
   "pygments_lexer": "ipython3",
   "version": "3.10.8"
  }
 },
 "nbformat": 4,
 "nbformat_minor": 5
}
